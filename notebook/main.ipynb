{
 "cells": [
  {
   "cell_type": "markdown",
   "metadata": {},
   "source": [
    "**Research Question:** What is the position of playing football? What are the variables that indicate this position is suitable for that player? And that position may not be the best position for the player himself.\n",
    "\n",
    "In this notebook, I will use Clustering Model to help answer that Question.\n",
    "\n",
    "By the way, what I will use in the grouping is I'm going to use the skill points for clustering. The skills are as follows: Pace, Shooting, Passing, Dribbling, Defined, Physicality\n",
    "\n",
    "**Design Phase**\n",
    "- Business Type\n",
    "    - Team Manager Football or Staff Coach \n",
    "- Business Objective\n",
    "    - Know the best position of the players\n",
    "- The expected results would be\n",
    "    - The best position of the player (Cluster by Skill)\n",
    "- The benefits of this projects\n",
    "    - Know the best position of the players for the best team performance.\n",
    "\n",
    "\n",
    "    \n",
    "    \n"
   ]
  },
  {
   "cell_type": "markdown",
   "metadata": {},
   "source": [
    "# Importation"
   ]
  },
  {
   "cell_type": "code",
   "execution_count": 1,
   "metadata": {},
   "outputs": [
    {
     "ename": "ModuleNotFoundError",
     "evalue": "No module named 'cheatBooks'",
     "output_type": "error",
     "traceback": [
      "\u001b[1;31m---------------------------------------------------------------------------\u001b[0m",
      "\u001b[1;31mModuleNotFoundError\u001b[0m                       Traceback (most recent call last)",
      "\u001b[1;32me:\\Data Mining\\Clustering\\Football-Players\\notebook\\main.ipynb Cell 3\u001b[0m in \u001b[0;36m<cell line: 5>\u001b[1;34m()\u001b[0m\n\u001b[0;32m      <a href='vscode-notebook-cell:/e%3A/Data%20Mining/Clustering/Football-Players/notebook/main.ipynb#X10sZmlsZQ%3D%3D?line=1'>2</a>\u001b[0m \u001b[39mimport\u001b[39;00m \u001b[39mnumpy\u001b[39;00m \u001b[39mas\u001b[39;00m \u001b[39mnp\u001b[39;00m\n\u001b[0;32m      <a href='vscode-notebook-cell:/e%3A/Data%20Mining/Clustering/Football-Players/notebook/main.ipynb#X10sZmlsZQ%3D%3D?line=3'>4</a>\u001b[0m \u001b[39m#Prepro\u001b[39;00m\n\u001b[1;32m----> <a href='vscode-notebook-cell:/e%3A/Data%20Mining/Clustering/Football-Players/notebook/main.ipynb#X10sZmlsZQ%3D%3D?line=4'>5</a>\u001b[0m \u001b[39mfrom\u001b[39;00m \u001b[39mcheatBooks\u001b[39;00m\u001b[39m.\u001b[39;00m\u001b[39mhealth_check\u001b[39;00m \u001b[39mimport\u001b[39;00m HealthCheck\n\u001b[0;32m      <a href='vscode-notebook-cell:/e%3A/Data%20Mining/Clustering/Football-Players/notebook/main.ipynb#X10sZmlsZQ%3D%3D?line=5'>6</a>\u001b[0m \u001b[39mfrom\u001b[39;00m \u001b[39msklearn\u001b[39;00m \u001b[39mimport\u001b[39;00m preprocessing\n\u001b[0;32m      <a href='vscode-notebook-cell:/e%3A/Data%20Mining/Clustering/Football-Players/notebook/main.ipynb#X10sZmlsZQ%3D%3D?line=6'>7</a>\u001b[0m \u001b[39mfrom\u001b[39;00m \u001b[39msklearn\u001b[39;00m\u001b[39m.\u001b[39;00m\u001b[39mpreprocessing\u001b[39;00m \u001b[39mimport\u001b[39;00m PowerTransformer\n",
      "\u001b[1;31mModuleNotFoundError\u001b[0m: No module named 'cheatBooks'"
     ]
    }
   ],
   "source": [
    "import pandas as pd\n",
    "import numpy as np\n",
    "\n",
    "#Prepro\n",
    "from cheatBooks.health_check import HealthCheck\n",
    "from sklearn import preprocessing\n",
    "from sklearn.preprocessing import PowerTransformer\n",
    "\n",
    "#Clustering\n",
    "from sklearn.cluster import KMeans\n",
    "from sklearn.metrics import silhouette_score\n",
    "\n",
    "#Visualization\n",
    "import seaborn as sns\n",
    "import matplotlib.pyplot as plt\n",
    "\n",
    "#Ignore warnings\n",
    "import warnings\n",
    "warnings.filterwarnings('ignore')"
   ]
  },
  {
   "cell_type": "markdown",
   "metadata": {},
   "source": []
  }
 ],
 "metadata": {
  "kernelspec": {
   "display_name": "Python 3.10.5 64-bit",
   "language": "python",
   "name": "python3"
  },
  "language_info": {
   "codemirror_mode": {
    "name": "ipython",
    "version": 3
   },
   "file_extension": ".py",
   "mimetype": "text/x-python",
   "name": "python",
   "nbconvert_exporter": "python",
   "pygments_lexer": "ipython3",
   "version": "3.10.5"
  },
  "orig_nbformat": 4,
  "vscode": {
   "interpreter": {
    "hash": "59c2cff008705844545e81e13985dd53ac344a221d3095bc517ee3b75bd88638"
   }
  }
 },
 "nbformat": 4,
 "nbformat_minor": 2
}
